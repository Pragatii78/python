{
 "cells": [
  {
   "cell_type": "code",
   "execution_count": 6,
   "id": "c513e4e1",
   "metadata": {},
   "outputs": [
    {
     "name": "stdout",
     "output_type": "stream",
     "text": [
      "Hello, World!\n"
     ]
    }
   ],
   "source": [
    "print(\"Hello, World!\")"
   ]
  },
  {
   "cell_type": "code",
   "execution_count": 4,
   "id": "5ee8b9b4",
   "metadata": {},
   "outputs": [
    {
     "name": "stdout",
     "output_type": "stream",
     "text": [
      "Five is greater than two!\n"
     ]
    }
   ],
   "source": [
    "if 5 > 2:\n",
    "  print(\"Five is greater than two!\")\n"
   ]
  },
  {
   "cell_type": "code",
   "execution_count": 5,
   "id": "9b40b883",
   "metadata": {},
   "outputs": [
    {
     "name": "stdout",
     "output_type": "stream",
     "text": [
      "5\n",
      "John\n"
     ]
    }
   ],
   "source": [
    "x = 5\n",
    "y = \"John\"\n",
    "print(x)\n",
    "print(y)"
   ]
  },
  {
   "cell_type": "markdown",
   "id": "1b95f965",
   "metadata": {},
   "source": [
    "write a program to take a user input and tell than the input types"
   ]
  },
  {
   "cell_type": "code",
   "execution_count": 7,
   "id": "c8e529eb",
   "metadata": {},
   "outputs": [
    {
     "name": "stdout",
     "output_type": "stream",
     "text": [
      "Enter your value: 1\n",
      "1\n"
     ]
    }
   ],
   "source": [
    "val = input(\"Enter your value: \") \n",
    "print(val)"
   ]
  },
  {
   "cell_type": "code",
   "execution_count": 10,
   "id": "766fdcc5",
   "metadata": {},
   "outputs": [
    {
     "name": "stdout",
     "output_type": "stream",
     "text": [
      "<class 'float'>\n"
     ]
    }
   ],
   "source": [
    "a = 1.2\n",
    "print(type(a))"
   ]
  },
  {
   "cell_type": "code",
   "execution_count": 13,
   "id": "5e5e8782",
   "metadata": {},
   "outputs": [
    {
     "name": "stdout",
     "output_type": "stream",
     "text": [
      "<class 'bool'>\n"
     ]
    }
   ],
   "source": [
    "a = True\n",
    "print(type(a))"
   ]
  },
  {
   "cell_type": "code",
   "execution_count": 14,
   "id": "1e25d1cf",
   "metadata": {},
   "outputs": [
    {
     "name": "stdout",
     "output_type": "stream",
     "text": [
      "<class 'str'>\n"
     ]
    }
   ],
   "source": [
    "statement = \"    I am Pragati   \"\n",
    "print(type(statement))           #we are defining character through the string"
   ]
  },
  {
   "cell_type": "markdown",
   "id": "15ab3812",
   "metadata": {},
   "source": [
    "write a program to generate a random number of the given range"
   ]
  },
  {
   "cell_type": "code",
   "execution_count": 16,
   "id": "8c34bbc4",
   "metadata": {},
   "outputs": [
    {
     "ename": "SyntaxError",
     "evalue": "invalid non-printable character U+202F (3600254469.py, line 1)",
     "output_type": "error",
     "traceback": [
      "\u001b[1;36m  Cell \u001b[1;32mIn[16], line 1\u001b[1;36m\u001b[0m\n\u001b[1;33m    import random\u001b[0m\n\u001b[1;37m          ^\u001b[0m\n\u001b[1;31mSyntaxError\u001b[0m\u001b[1;31m:\u001b[0m invalid non-printable character U+202F\n"
     ]
    }
   ],
   "source": [
    "import random \n",
    " \n",
    "n = random.random() \n",
    "print(n)"
   ]
  },
  {
   "cell_type": "code",
   "execution_count": 25,
   "id": "0e6563d6",
   "metadata": {},
   "outputs": [
    {
     "name": "stdout",
     "output_type": "stream",
     "text": [
      "Random integers between 0 and 9: \n",
      "8\n",
      "5\n",
      "2\n",
      "8\n",
      "4\n",
      "3\n"
     ]
    }
   ],
   "source": [
    "import random\n",
    " \n",
    " \n",
    "print(\"Random integers between 0 and 9: \")\n",
    "for i in range(6):\n",
    "     y = random.randrange(9)\n",
    "     print(y)"
   ]
  },
  {
   "cell_type": "code",
   "execution_count": 27,
   "id": "c8377498",
   "metadata": {},
   "outputs": [
    {
     "name": "stdout",
     "output_type": "stream",
     "text": [
      "4\n"
     ]
    }
   ],
   "source": [
    "import random\n",
    "\n",
    "print(random.randrange(0,9))"
   ]
  },
  {
   "cell_type": "code",
   "execution_count": 28,
   "id": "dac192c1",
   "metadata": {},
   "outputs": [
    {
     "name": "stdout",
     "output_type": "stream",
     "text": [
      "b is greater than a\n"
     ]
    }
   ],
   "source": [
    "a = 33\n",
    "b = 200\n",
    "if b > a:\n",
    "  print(\"b is greater than a\")    #conditional statement"
   ]
  },
  {
   "cell_type": "code",
   "execution_count": 29,
   "id": "90475684",
   "metadata": {},
   "outputs": [
    {
     "name": "stdout",
     "output_type": "stream",
     "text": [
      "1\n",
      "2\n",
      "3\n",
      "4\n",
      "5\n"
     ]
    }
   ],
   "source": [
    "i = 1\n",
    "while i < 6:\n",
    "  print(i)\n",
    "  i += 1   #while loop"
   ]
  },
  {
   "cell_type": "code",
   "execution_count": 30,
   "id": "b1c6670a",
   "metadata": {},
   "outputs": [
    {
     "name": "stdout",
     "output_type": "stream",
     "text": [
      "apple\n",
      "banana\n",
      "cherry\n"
     ]
    }
   ],
   "source": [
    "fruits = [\"apple\", \"banana\", \"cherry\"]\n",
    "for x in fruits:\n",
    "  print(x)   #for loop"
   ]
  },
  {
   "cell_type": "code",
   "execution_count": null,
   "id": "7c2c9bee",
   "metadata": {},
   "outputs": [],
   "source": [
    "#any name that is used to define a class, variable,function or an object is called identifiers."
   ]
  },
  {
   "cell_type": "code",
   "execution_count": null,
   "id": "de6c4189",
   "metadata": {},
   "outputs": [],
   "source": [
    "#python modules can be defined as python program file. one file called 1 module, which contains python codes, classes and variables."
   ]
  },
  {
   "cell_type": "markdown",
   "id": "a445f2a6",
   "metadata": {},
   "source": [
    "write a program to print a values to the reverse order of the given range"
   ]
  },
  {
   "cell_type": "code",
   "execution_count": 37,
   "id": "73f1fec6",
   "metadata": {},
   "outputs": [
    {
     "name": "stdout",
     "output_type": "stream",
     "text": [
      "4\n",
      "3\n",
      "2\n",
      "1\n",
      "0\n"
     ]
    }
   ],
   "source": [
    "for n in reversed(range(5)):\n",
    "    print(n)"
   ]
  },
  {
   "cell_type": "code",
   "execution_count": 34,
   "id": "632a7ce6",
   "metadata": {},
   "outputs": [
    {
     "name": "stdout",
     "output_type": "stream",
     "text": [
      "21\n"
     ]
    }
   ],
   "source": [
    "num = 12\n",
    "print(str(num)[::-1])"
   ]
  },
  {
   "cell_type": "code",
   "execution_count": 44,
   "id": "d58e8d45",
   "metadata": {},
   "outputs": [
    {
     "ename": "SyntaxError",
     "evalue": "'(' was never closed (597976897.py, line 1)",
     "output_type": "error",
     "traceback": [
      "\u001b[1;36m  Cell \u001b[1;32mIn[44], line 1\u001b[1;36m\u001b[0m\n\u001b[1;33m    inp = int (input(\"Enter a Number\")\u001b[0m\n\u001b[1;37m              ^\u001b[0m\n\u001b[1;31mSyntaxError\u001b[0m\u001b[1;31m:\u001b[0m '(' was never closed\n"
     ]
    }
   ],
   "source": [
    "inp = int (input(\"Enter a Number\")\n",
    "for i in range (1,10):\n",
    "    if i == inp:\n",
    "        print ('matched:',inp)\n",
    "        break\n",
    "    \n",
    "    "
   ]
  },
  {
   "cell_type": "markdown",
   "id": "12c9b30f",
   "metadata": {},
   "source": [
    "vowels and constant"
   ]
  },
  {
   "cell_type": "code",
   "execution_count": 49,
   "id": "e28fb4fb",
   "metadata": {},
   "outputs": [
    {
     "name": "stdout",
     "output_type": "stream",
     "text": [
      "Enter a character: q\n",
      "The character 'q' is a consonant!\n"
     ]
    }
   ],
   "source": [
    "character = input(\"Enter a character: \") \n",
    "vowels = ['a', 'e', 'i', 'o', 'u', 'A', 'E', 'I', 'O', 'U']  \n",
    "if character in vowels:  \n",
    "    print(f\"The character '{character}' is a vowel!\")  \n",
    "else:  \n",
    "    print(f\"The character '{character}' is a consonant!\") "
   ]
  },
  {
   "cell_type": "code",
   "execution_count": 54,
   "id": "10c0e469",
   "metadata": {},
   "outputs": [
    {
     "ename": "SyntaxError",
     "evalue": "invalid syntax (2260599502.py, line 7)",
     "output_type": "error",
     "traceback": [
      "\u001b[1;36m  Cell \u001b[1;32mIn[54], line 7\u001b[1;36m\u001b[0m\n\u001b[1;33m    elif:\u001b[0m\n\u001b[1;37m    ^\u001b[0m\n\u001b[1;31mSyntaxError\u001b[0m\u001b[1;31m:\u001b[0m invalid syntax\n"
     ]
    }
   ],
   "source": [
    "vowel='aeiouAEIOU'\n",
    "value=input (\"enter the char:\")\n",
    "if value in vowel:\n",
    "    print(\"Given char is vowel\")\n",
    "else:\n",
    "    print(\"Given char is Consonant\")\n",
    "elif:\n",
    "    print (\"Given char is Invalid\")"
   ]
  },
  {
   "cell_type": "markdown",
   "id": "5bcf31a0",
   "metadata": {},
   "source": [
    "# write a program to insert a new element into the list using function if the element is already present then show the message to the user with index"
   ]
  },
  {
   "cell_type": "code",
   "execution_count": 55,
   "id": "6fb1e22f",
   "metadata": {},
   "outputs": [
    {
     "name": "stdout",
     "output_type": "stream",
     "text": [
      "['apple', 'banana', 'custard', 'lichhie']\n"
     ]
    }
   ],
   "source": [
    "fruits = ['apple','banana','custard']\n",
    "fruits.append(\"lichhie\")\n",
    "print(fruits)"
   ]
  },
  {
   "cell_type": "code",
   "execution_count": null,
   "id": "98ac39f2",
   "metadata": {},
   "outputs": [],
   "source": [
    "def insert_element(lst, element):\n",
    "    if element in lst:\n",
    "        print(f\"The element '{element}' is already present in the list at index {lst.index(element)}.\")\n",
    "    else:\n",
    "        lst.append(element)\n",
    "        print(f\"Element '{element}' inserted into the list.\")\n",
    "\n",
    "def main():\n",
    "    my_list = []\n",
    "\n",
    "    while True:\n",
    "        element = input(\"Enter the element to insert (type 'exit' to terminate): \")\n",
    "        \n",
    "        if element.lower() == '3':\n",
    "            break\n",
    "        insert_element(my_list, element)\n",
    "\n",
    "    print(\"Final list:\", my_list)\n",
    "\n",
    "if __name__ == \"__main__\":\n",
    "    main()"
   ]
  },
  {
   "cell_type": "code",
   "execution_count": null,
   "id": "120b50ab",
   "metadata": {},
   "outputs": [],
   "source": [
    "while True:\n",
    "    choice= input(\"1. for insert, 2. for Exit\")\n",
    "    if choice == '1' :\n",
    "        element = input (\"Enter the element:\")\n",
    "        check_data(element, list)\n",
    "    elif choice=='2':\n",
    "        break\n",
    "    else:\n",
    "        print (\"Invalid Choice\")\n",
    "def check_data (element,list):\n",
    "    if element in list:\n",
    "        print (f\"Element is already present: at {list.index(element)}\" )\n",
    "    else:\n",
    "        list.append(element)\n",
    "        print (\"Element added successfully.\")"
   ]
  },
  {
   "cell_type": "code",
   "execution_count": null,
   "id": "2361b0f1",
   "metadata": {},
   "outputs": [],
   "source": []
  }
 ],
 "metadata": {
  "kernelspec": {
   "display_name": "Python 3 (ipykernel)",
   "language": "python",
   "name": "python3"
  },
  "language_info": {
   "codemirror_mode": {
    "name": "ipython",
    "version": 3
   },
   "file_extension": ".py",
   "mimetype": "text/x-python",
   "name": "python",
   "nbconvert_exporter": "python",
   "pygments_lexer": "ipython3",
   "version": "3.11.5"
  }
 },
 "nbformat": 4,
 "nbformat_minor": 5
}
